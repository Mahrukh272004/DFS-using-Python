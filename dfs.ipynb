{
 "cells": [
  {
   "cell_type": "code",
   "execution_count": 2,
   "metadata": {},
   "outputs": [
    {
     "name": "stdout",
     "output_type": "stream",
     "text": [
      "{'A': ['B', 'C', 'D'], 'B': ['C', 'E'], 'C': ['D', 'F'], 'D': ['E', 'G'], 'E': ['H'], 'F': ['G'], 'G': ['H'], 'H': []}\n"
     ]
    }
   ],
   "source": [
    "graph = {\n",
    "    'A': ['B', 'C', 'D'],\n",
    "    'B': ['C', 'E'],\n",
    "    'C': ['D', 'F'],\n",
    "    'D': ['E', 'G'],\n",
    "    'E': ['H'],\n",
    "    'F': ['G'],\n",
    "    'G': ['H'],\n",
    "    'H': []\n",
    "}\n",
    "print(graph)"
   ]
  },
  {
   "cell_type": "code",
   "execution_count": 3,
   "metadata": {},
   "outputs": [
    {
     "name": "stdout",
     "output_type": "stream",
     "text": [
      "A\n",
      "B\n",
      "C\n",
      "D\n",
      "E\n",
      "H\n",
      "G\n",
      "F\n"
     ]
    }
   ],
   "source": [
    "visited=set()\n",
    "def dfs(visited,graph,root):\n",
    "    if root not in visited:\n",
    "        visited.add(root)\n",
    "        print(root)\n",
    "    for neighbours in graph[root]:\n",
    "        dfs(visited,graph,neighbours)\n",
    "\n",
    "dfs(visited,graph,'A')"
   ]
  }
 ],
 "metadata": {
  "kernelspec": {
   "display_name": "Python 3",
   "language": "python",
   "name": "python3"
  },
  "language_info": {
   "codemirror_mode": {
    "name": "ipython",
    "version": 3
   },
   "file_extension": ".py",
   "mimetype": "text/x-python",
   "name": "python",
   "nbconvert_exporter": "python",
   "pygments_lexer": "ipython3",
   "version": "3.12.0"
  }
 },
 "nbformat": 4,
 "nbformat_minor": 2
}
